{
 "cells": [
  {
   "cell_type": "code",
   "execution_count": null,
   "metadata": {},
   "outputs": [],
   "source": [
    "# default_exp utils"
   ]
  },
  {
   "cell_type": "markdown",
   "metadata": {},
   "source": [
    "# geograpy3.utils"
   ]
  },
  {
   "cell_type": "code",
   "execution_count": null,
   "metadata": {},
   "outputs": [],
   "source": [
    "#hide\n",
    "from nbdev.showdoc import *"
   ]
  },
  {
   "cell_type": "markdown",
   "metadata": {},
   "source": [
    "## Main geograpy3 module"
   ]
  },
  {
   "cell_type": "code",
   "execution_count": null,
   "metadata": {},
   "outputs": [],
   "source": [
    "#export\n",
    "import gzip\n",
    "import shutil\n",
    "import jellyfish\n",
    "import time\n",
    "import urllib.request\n",
    "import os"
   ]
  },
  {
   "cell_type": "code",
   "execution_count": null,
   "metadata": {},
   "outputs": [],
   "source": [
    "#export\n",
    "class Download:\n",
    "    '''\n",
    "    Utility functions for downloading data\n",
    "    '''\n",
    "    \n",
    "    @staticmethod\n",
    "    def getURLContent(url:str):\n",
    "        with urllib.request.urlopen(url) as urlResponse:\n",
    "            content = urlResponse.read().decode()\n",
    "            return content\n",
    "\n",
    "    @staticmethod\n",
    "    def getFileContent(path:str):\n",
    "        with open(path, \"r\") as file:\n",
    "            content = file.read()\n",
    "            return content\n",
    "\n",
    "    @staticmethod\n",
    "    def needsDownload(filePath:str,force:bool=False)->bool:\n",
    "        '''\n",
    "        check if a download of the given filePath is necessary that is the file\n",
    "        does not exist has a size of zero or the download should be forced\n",
    "        \n",
    "        Args:\n",
    "            filePath(str): the path of the file to be checked\n",
    "            force(bool): True if the result should be forced to True\n",
    "            \n",
    "        Return:\n",
    "            bool: True if  a download for this file needed\n",
    "        '''\n",
    "        if not os.path.isfile(filePath):\n",
    "            result=True\n",
    "        else:\n",
    "            stats=os.stat(filePath)\n",
    "            size=stats.st_size\n",
    "            result=force or size==0\n",
    "        return result\n",
    "\n",
    "    @staticmethod\n",
    "    def downloadBackupFile(url:str, fileName:str, targetDirectory:str, force:bool=False):\n",
    "        '''\n",
    "        Downloads from the given url the zip-file and extracts the file corresponding to the given fileName.\n",
    "        Args:\n",
    "            url: url linking to a downloadable gzip file\n",
    "            fileName: Name of the file that should be extracted from gzip file\n",
    "            targetDirectory(str): download the file this directory\n",
    "            force (bool): True if the download should be forced\n",
    "        Returns:\n",
    "            Name of the extracted file with path to the backup directory\n",
    "        '''\n",
    "        extractTo = f\"{targetDirectory}/{fileName}\"\n",
    "        # we might want to check whether a new version is available\n",
    "        if Download.needsDownload(extractTo, force=force):\n",
    "            if not os.path.isdir(targetDirectory):\n",
    "                os.makedirs(targetDirectory)\n",
    "            zipped = f\"{extractTo}.gz\"\n",
    "            print(f\"Downloading {zipped} from {url} ... this might take a few seconds\")\n",
    "            urllib.request.urlretrieve(url, zipped)\n",
    "            print(f\"Unzipping {extractTo} from {zipped}\")\n",
    "            with gzip.open(zipped, 'rb') as gzipped:\n",
    "                with open(extractTo, 'wb') as unzipped:\n",
    "                    shutil.copyfileobj(gzipped, unzipped)\n",
    "                print(\"Extracting completed\")\n",
    "            if not os.path.isfile(extractTo):\n",
    "                raise (f\"could not extract {fileName} from {zipped}\")\n",
    "        return extractTo"
   ]
  },
  {
   "cell_type": "code",
   "execution_count": null,
   "metadata": {},
   "outputs": [],
   "source": [
    "#export\n",
    "class Profiler:\n",
    "    '''\n",
    "    simple profiler\n",
    "    '''\n",
    "    def __init__(self,msg,profile=True):\n",
    "        '''\n",
    "        construct me with the given msg and profile active flag\n",
    "        \n",
    "        Args:\n",
    "            msg(str): the message to show if profiling is active\n",
    "            profile(bool): True if messages should be shown\n",
    "        '''\n",
    "        self.msg=msg\n",
    "        self.profile=profile\n",
    "        self.starttime=time.time()\n",
    "        if profile:\n",
    "            print(f\"Starting {msg} ...\")\n",
    "    \n",
    "    def time(self,extraMsg=\"\"):\n",
    "        '''\n",
    "        time the action and print if profile is active\n",
    "        '''\n",
    "        elapsed=time.time()-self.starttime\n",
    "        if self.profile:\n",
    "            print(f\"{self.msg}{extraMsg} took {elapsed:5.1f} s\")\n",
    "        return elapsed"
   ]
  },
  {
   "cell_type": "code",
   "execution_count": null,
   "metadata": {},
   "outputs": [],
   "source": [
    "#export\n",
    "def remove_non_ascii(s):\n",
    "    ''' \n",
    "    Remove non ascii chars from the given string \n",
    "    Args:\n",
    "        s: \n",
    "            string: The string to remove chars from \n",
    "    Returns:\n",
    "        string: The result string with non-ascii chars removed \n",
    "        \n",
    "    Hat tip: http://stackoverflow.com/a/1342373/2367526    \n",
    "    '''\n",
    "    return \"\".join(i for i in s if ord(i) < 128)"
   ]
  },
  {
   "cell_type": "code",
   "execution_count": null,
   "metadata": {},
   "outputs": [],
   "source": [
    "#export\n",
    "def fuzzy_match(s1, s2, max_dist=.8):\n",
    "    ''' \n",
    "    Fuzzy match the given two strings with the given maximum distance\n",
    "    jellyfish jaro_winkler_similarity based on https://en.wikipedia.org/wiki/Jaro-Winkler_distance\n",
    "    Args:\n",
    "        s1: \n",
    "            string: First string \n",
    "        s2: \n",
    "            string: Second string \n",
    "        max_dist: \n",
    "            float: The distance - default: 0.8 \n",
    "    Returns:\n",
    "        True if the match is greater equals max_dist. Otherwise false\n",
    "    '''\n",
    "    return jellyfish.jaro_winkler_similarity(s1, s2) >= max_dist"
   ]
  },
  {
   "cell_type": "code",
   "execution_count": null,
   "metadata": {},
   "outputs": [],
   "source": []
  }
 ],
 "metadata": {
  "kernelspec": {
   "display_name": "Python 3 (ipykernel)",
   "language": "python",
   "name": "python3"
  }
 },
 "nbformat": 4,
 "nbformat_minor": 2
}
