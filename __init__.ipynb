{
 "cells": [
  {
   "cell_type": "code",
   "execution_count": null,
   "metadata": {},
   "outputs": [],
   "source": [
    "# default_exp __init__"
   ]
  },
  {
   "cell_type": "markdown",
   "metadata": {},
   "source": [
    "# geograpy3.__init__"
   ]
  },
  {
   "cell_type": "code",
   "execution_count": null,
   "metadata": {},
   "outputs": [],
   "source": [
    "#hide\n",
    "from nbdev.showdoc import *"
   ]
  },
  {
   "cell_type": "markdown",
   "metadata": {},
   "source": [
    "## Main geograpy3 module"
   ]
  },
  {
   "cell_type": "code",
   "execution_count": null,
   "metadata": {},
   "outputs": [],
   "source": [
    "#export\n",
    "from geograpy_new.extraction import Extractor\n",
    "from geograpy_new.places import PlaceContext\n",
    "from geograpy_new.locator import Locator\n",
    "from geograpy_new.labels import Labels"
   ]
  },
  {
   "cell_type": "code",
   "execution_count": null,
   "metadata": {},
   "outputs": [],
   "source": [
    "#export\n",
    "def get_place_context(url=None, text=None,labels=Labels.default, debug=False):\n",
    "    '''\n",
    "    Get a place context for a given text with information\n",
    "    about country, region, city and other\n",
    "    based on NLTK Named Entities in the label set Geographic(GPE), \n",
    "    Person(PERSON) and Organization(ORGANIZATION).\n",
    "    \n",
    "    Args:\n",
    "        url(String): the url to read text from (if any)\n",
    "        text(String): the text to analyze\n",
    "        debug(boolean): if True show debug information\n",
    "    \n",
    "    Returns:\n",
    "        pc: \n",
    "            PlaceContext: the place context\n",
    "    '''\n",
    "    e = Extractor(url=url, text=text,debug=debug)\n",
    "    e.find_entities(labels=labels)\n",
    "    places=e.places\n",
    "    pc = PlaceContext(places)\n",
    "    pc.setAll()\n",
    "    return pc"
   ]
  },
  {
   "cell_type": "code",
   "execution_count": null,
   "metadata": {},
   "outputs": [],
   "source": [
    "#export\n",
    "def locateCity(location,correctMisspelling=False,debug=False):\n",
    "    '''\n",
    "    locate the given location string\n",
    "    Args:\n",
    "        location(string): the description of the location\n",
    "    Returns:\n",
    "        Locator: the location\n",
    "    '''\n",
    "    e = Extractor(text=location,debug=debug)\n",
    "    e.split()\n",
    "    loc=Locator.getInstance(correctMisspelling=correctMisspelling,debug=debug)\n",
    "    city=loc.locateCity(e.places)\n",
    "    return city"
   ]
  },
  {
   "cell_type": "code",
   "execution_count": null,
   "metadata": {},
   "outputs": [],
   "source": []
  }
 ],
 "metadata": {
  "kernelspec": {
   "display_name": "Python 3 (ipykernel)",
   "language": "python",
   "name": "python3"
  }
 },
 "nbformat": 4,
 "nbformat_minor": 2
}
