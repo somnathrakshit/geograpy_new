{
 "cells": [
  {
   "cell_type": "code",
   "execution_count": null,
   "metadata": {},
   "outputs": [],
   "source": [
    "# default_exp basetest"
   ]
  },
  {
   "cell_type": "code",
   "execution_count": null,
   "metadata": {},
   "outputs": [],
   "source": [
    "#hide\n",
    "from nbdev.showdoc import *"
   ]
  },
  {
   "cell_type": "code",
   "execution_count": null,
   "metadata": {},
   "outputs": [],
   "source": [
    "#exports\n",
    "from unittest import TestCase\n",
    "import getpass\n",
    "import os\n",
    "import json\n",
    "from geograpy_new.utils import Profiler\n",
    "from geograpy_new.locator import Locator"
   ]
  },
  {
   "cell_type": "code",
   "execution_count": null,
   "metadata": {},
   "outputs": [],
   "source": [
    "#exports\n",
    "class Geograpy3Test(TestCase):\n",
    "    '''\n",
    "    Base test for geograpy3 tests\n",
    "    '''\n",
    "\n",
    "    def setUp(self,debug=False):\n",
    "        '''\n",
    "        setUp test environment\n",
    "        '''\n",
    "        TestCase.setUp(self)\n",
    "        self.debug=debug\n",
    "        msg=f\"test {self._testMethodName}, debug={self.debug}\"\n",
    "        self.profile=Profiler(msg)\n",
    "        Locator.resetInstance()\n",
    "        locator=Locator.getInstance()\n",
    "        locator.downloadDB()\n",
    "        # actively test Wikidata tests?\n",
    "        self.testWikidata = False\n",
    "        \n",
    "    def tearDown(self):\n",
    "        TestCase.tearDown(self)\n",
    "        self.profile.time()\n",
    "        \n",
    "    def inCI(self):\n",
    "        '''\n",
    "        are we running in a Continuous Integration Environment?\n",
    "        '''\n",
    "        publicCI = getpass.getuser() in [\"travis\", \"runner\"] \n",
    "        jenkins = \"JENKINS_HOME\" in os.environ\n",
    "        return publicCI or jenkins\n",
    "    \n",
    "    def handleWikidataException(self, ex):\n",
    "        '''\n",
    "        handle a Wikidata exception\n",
    "        Args:\n",
    "            ex(Exception): the exception to handle - e.g. timeout\n",
    "        '''\n",
    "        msg = str(ex)\n",
    "        print(f\"Wikidata test failed {msg}\")\n",
    "        # only raise exception for real problems\n",
    "        if \"HTTP Error 500\" in msg:\n",
    "            print(\"test can not work if server has problems\")\n",
    "            return\n",
    "        if isinstance(ex,json.decoder.JSONDecodeError):\n",
    "            print(\"potential SPARQLWrapper issue\")\n",
    "            return\n",
    "        raise ex"
   ]
  },
  {
   "cell_type": "code",
   "execution_count": null,
   "metadata": {},
   "outputs": [],
   "source": []
  }
 ],
 "metadata": {
  "kernelspec": {
   "display_name": "Python 3 (ipykernel)",
   "language": "python",
   "name": "python3"
  }
 },
 "nbformat": 4,
 "nbformat_minor": 2
}
